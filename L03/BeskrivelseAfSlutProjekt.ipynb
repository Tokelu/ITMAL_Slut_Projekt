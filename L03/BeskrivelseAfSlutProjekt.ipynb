{
 "cells": [
  {
   "cell_type": "markdown",
   "metadata": {},
   "source": [
    "<h1 style=\"text-align: center;\">Beskrivelse af Slutprojekt.</h1>\n",
    "<p>&nbsp;</p>\n",
    "<p>&nbsp;</p>\n",
    "<h4>I gruppen er:</h4>\n",
    "<table style=\"border-collapse: collapse; width: 100%;\" border=\"1\">\n",
    "<tbody>\n",
    "<tr>\n",
    "<td style=\"width: 50%; text-align: left;\">Nina Wiborg M&oslash;lgaard</td>\n",
    "<td style=\"width: 50%; text-align: left;\">stud. Nr.</td>\n",
    "</tr>\n",
    "<tr>\n",
    "<td style=\"width: 50%; text-align: left;\">Mette Christine Jacobsen</td>\n",
    "<td style=\"width: 50%; text-align: left;\">stud. Nr. 201610470</td>\n",
    "</tr>\n",
    "<tr>\n",
    "<td style=\"width: 50%; text-align: left;\">Tonni Kenneth Lutze</td>\n",
    "<td style=\"width: 50%; text-align: left;\">stud. Nr. 201502121</td>\n",
    "</tr>\n",
    "</tbody>\n",
    "</table>\n",
    "<p>&nbsp;</p>\n",
    "<h5>Datas&aelig;t:</h5>\n",
    "<p>Poker Hand (<a href=\"https://bit.ly/2kIpZQY\">https://bit.ly/2kIpZQY</a>) </p>\n",
    "<p>&nbsp;</p>\n",
    "<h4>M&aring;ls&aelig;tning:</h4>\n",
    "<p>Datas&aelig;ttet best&aring;r af et tr&aelig;ningss&aelig;t p&aring; 25010 samples og en million test samples. Hvert sample er en poker h&aring;nd. En h&aring;nd er defineret ved fem kort som tilsammen beskriver et s&aelig;t kort hvor hvert kort har to attributter; rang og suite.</p>\n",
    "<p>Dermed har hvert sample / hver h&aring;nd 10 pr&aelig;diktive attributter. Tests&aelig;ttet har en yderligere attribut som beskriver h&aring;nden, alts&aring; hvorvidt en h&aring;nd f.eks. er en flush, eller full house osv.</p>\n",
    "<p>Se detaljeret information via linket til datas&aelig;ttet.</p>\n",
    "<p>Vores intention er dels at tr&aelig;ne en algoritme til at kunne klassificere en &rdquo;h&aring;nd&rdquo;, og dels at forudsige chance for at man har en vinderh&aring;nd. <br />(givet at vi kan n&aring; det)</p>\n",
    "<p>&nbsp;</p>\n",
    "<p>&nbsp;</p>"
   ]
  }
 ],
 "metadata": {
  "kernelspec": {
   "display_name": "Python 3",
   "language": "python",
   "name": "python3"
  },
  "language_info": {
   "codemirror_mode": {
    "name": "ipython",
    "version": 3
   },
   "file_extension": ".py",
   "mimetype": "text/x-python",
   "name": "python",
   "nbconvert_exporter": "python",
   "pygments_lexer": "ipython3",
   "version": "3.7.3"
  }
 },
 "nbformat": 4,
 "nbformat_minor": 2
}
