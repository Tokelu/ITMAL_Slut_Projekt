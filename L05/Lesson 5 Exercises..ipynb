{
 "cells": [
  {
   "cell_type": "markdown",
   "metadata": {},
   "source": [
    "# Lesson 5 Exercises."
   ]
  },
  {
   "cell_type": "markdown",
   "metadata": {},
   "source": [
    "## Øvelse 1 : \n",
    "\n",
    "I skal analysere på ”California housing prices” (https://www.kaggle.com/camnugent/california-housing-\n",
    "prices), som også benyttes i lærebogen. \n",
    "\n",
    "a) Plot fordelingen af median_income. Find også spredning, middelværdi og median. \n",
    "\n",
    "b) Er der forskel på median og middelværdi af median_income ? Hvilken af de to beskriver bedst \n",
    "en ”almindelig families indkomst” og hvorfor ? \n",
    "\n",
    "c) Fit en normalfordeling til data og plot histogrammet – passer de to ? \n",
    "\n",
    "d) Er der sammenhæng imellem median_house_value og median_income ? Lav korrelationsplot. \n",
    "\n",
    "e) Hvad er 5% og 95% percentilerne af median_house_value ? \n",
    "(dvs. grænserne for 5% laveste og højeste). \n",
    "Plot også fordelingen af median_house_value. Kommentér på realismen af max-værdi og 95% percentil – foreslå gerne en løsning til hvad man kan gøre ved dette, hvis man skal have mere realistiske data.  \n",
    "\n",
    "\n",
    "### Tips :  \n",
    "I kan finde mange eksempler på data analyse under ”Kernels” på Kaggle site, fx. - \n",
    "https://www.kaggle.com/rajritu2803/california-housing-price-prediction \n",
    "https://www.kaggle.com/takedown/complete-tutorial-for-beginners \n",
    "Seaborn tutorial – plot fordelinger og korrelationer - \n",
    "https://seaborn.pydata.org/tutorial/distributions.html "
   ]
  },
  {
   "cell_type": "markdown",
   "metadata": {},
   "source": [
    "## Øvelse 2 : \n",
    "\n",
    "Lav data analyse på jeres egne data og projekt. "
   ]
  },
  {
   "cell_type": "code",
   "execution_count": null,
   "metadata": {},
   "outputs": [],
   "source": []
  }
 ],
 "metadata": {
  "kernelspec": {
   "display_name": "Python 3",
   "language": "python",
   "name": "python3"
  },
  "language_info": {
   "codemirror_mode": {
    "name": "ipython",
    "version": 3
   },
   "file_extension": ".py",
   "mimetype": "text/x-python",
   "name": "python",
   "nbconvert_exporter": "python",
   "pygments_lexer": "ipython3",
   "version": "3.7.3"
  }
 },
 "nbformat": 4,
 "nbformat_minor": 2
}
