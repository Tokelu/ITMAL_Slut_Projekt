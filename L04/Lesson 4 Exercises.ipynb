{
 "cells": [
  {
   "cell_type": "markdown",
   "metadata": {},
   "source": [
    "# Lesson 4 Exercises"
   ]
  },
  {
   "cell_type": "markdown",
   "metadata": {},
   "source": [
    "## Øvelse 1 : \n",
    "\n",
    "I denne øvelse skal I eksperimentere med Principal Component Analysis (PCA) til dimensionsreduktion og visualisering. I skal arbejde med datasættet ”Handwritten digits” fra Scikit Learn, som er scannede billeder af håndskrevne tal imellem 0 og 9 (dvs. 10 kategorier). \n",
    "\n",
    "\n",
    "a) Indlæs data og lav kort data-analyse, fx. plot nogle eksempel billeder \n",
    "\n",
    "b) Plot de forskellige tal/digits i 2D efter PCA dimensionsreduktion. \n",
    "\n",
    "\n",
    "### Tips :  \n",
    "Indlæs digits data og anvend PCA - https://scikit-\n",
    "learn.org/stable/auto_examples/cluster/plot_kmeans_digits.html#sphx-glr-auto-examples-cluster-plot-\n",
    "kmeans-digits-py \n",
    "Scatter plots - https://problemsolvingwithpython.com/06-Plotting-with-Matplotlib/06.10-Scatter-Plots/ \n",
    "PCA ref - https://scikit-learn.org/stable/modules/generated/sklearn.decomposition.PCA.html \n",
    "\n",
    " \n"
   ]
  },
  {
   "cell_type": "markdown",
   "metadata": {},
   "source": [
    "\n",
    "## Øvelse2 : (OPTIONAL)\n",
    "\n",
    "I denne øvelse skal I benytte PCA til kompression/dekompression af data. I skal først benytte eksemplet nedenfor til at komprimere (transformere) data ned til en lavere dimension og dernæst rekonstruere billedet igen.  \n",
    "\n",
    "\n",
    "a) Plot varianserne (explained_variance_ i PCA objekt – med n_components til max.) – relater til valg af komponenter. \n",
    "\n",
    "b) Rekonstruér nogle tal og sammenlign med de originale – ligner de ? \n",
    "\n",
    "c) Hvor meget data fylder jeres billeder før og efter kompressionen ? \n",
    "\n",
    "d) Plot også middelværdi-billedet (dvs. rekonstruér udfra middelværdien). \n",
    "\n",
    "\n",
    "De 10 tal ser ret forskellige ud, så det kan give mening at lave PCA for hvert ciffer individuelt. Lav en PCA \n",
    "kompression for et enkelt tal (fx. 3). \n",
    "\n",
    "\n",
    "a) Plot igen middelværdi-billedet (dvs. rekonstruér udfra middelværdien). \n",
    "\n",
    "b) Plot også ”eigenfaces” for første og anden principal komponent, dvs. ”hvor meget de enkelte pixels bidrager til beskrivelse af variansen i tallet”. \n",
    "\n",
    "\n",
    "### Tips :  \n",
    "Eksempel med PCA til kompression / eigenfaces - https://scikit-\n",
    "learn.org/stable/auto_examples/applications/plot_face_recognition.html#sphx-glr-auto-examples-\n",
    "applications-plot-face-recognition-py \n",
    "\n",
    "\n"
   ]
  },
  {
   "cell_type": "markdown",
   "metadata": {},
   "source": [
    "## Øvelse 3 : (OPTIONAL)\n",
    "\n",
    "Afprøv PCA på jeres egne data og projekt. "
   ]
  },
  {
   "cell_type": "code",
   "execution_count": null,
   "metadata": {},
   "outputs": [],
   "source": []
  }
 ],
 "metadata": {
  "kernelspec": {
   "display_name": "Python 3",
   "language": "python",
   "name": "python3"
  },
  "language_info": {
   "codemirror_mode": {
    "name": "ipython",
    "version": 3
   },
   "file_extension": ".py",
   "mimetype": "text/x-python",
   "name": "python",
   "nbconvert_exporter": "python",
   "pygments_lexer": "ipython3",
   "version": "3.7.3"
  }
 },
 "nbformat": 4,
 "nbformat_minor": 2
}
